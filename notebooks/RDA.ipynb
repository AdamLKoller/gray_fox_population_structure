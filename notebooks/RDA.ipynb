{
 "cells": [
  {
   "cell_type": "markdown",
   "id": "6bee5939",
   "metadata": {},
   "source": [
    "# Redudancy Analysis (RDA) \n",
    "### Genetic variation ~ geography + population structure\n",
    "\n",
    "<hr style='border:2px solid gray'>\n",
    "\n",
    "##### Adam Koller\n",
    " August 2024"
   ]
  },
  {
   "cell_type": "markdown",
   "id": "c5fe690a",
   "metadata": {},
   "source": [
    "### Loading R magic"
   ]
  },
  {
   "cell_type": "code",
   "execution_count": 1,
   "id": "e6e30835",
   "metadata": {},
   "outputs": [],
   "source": [
    "%load_ext rpy2.ipython"
   ]
  },
  {
   "cell_type": "markdown",
   "id": "fb33d442",
   "metadata": {},
   "source": [
    "### Loading libraries"
   ]
  },
  {
   "cell_type": "code",
   "execution_count": 2,
   "id": "c1e1e407",
   "metadata": {
    "scrolled": true
   },
   "outputs": [
    {
     "name": "stderr",
     "output_type": "stream",
     "text": [
      "R[write to console]: Loading required package: permute\n",
      "\n",
      "R[write to console]: Loading required package: lattice\n",
      "\n",
      "R[write to console]: This is vegan 2.6-6.1\n",
      "\n",
      "R[write to console]: \n",
      "Attaching package: ‘dplyr’\n",
      "\n",
      "\n",
      "R[write to console]: The following objects are masked from ‘package:stats’:\n",
      "\n",
      "    filter, lag\n",
      "\n",
      "\n",
      "R[write to console]: The following objects are masked from ‘package:base’:\n",
      "\n",
      "    intersect, setdiff, setequal, union\n",
      "\n",
      "\n"
     ]
    }
   ],
   "source": [
    "%%R\n",
    "library(vegan)\n",
    "library(dplyr)"
   ]
  },
  {
   "cell_type": "markdown",
   "id": "30897320",
   "metadata": {},
   "source": [
    "### Loading individual genotype matrix"
   ]
  },
  {
   "cell_type": "code",
   "execution_count": 15,
   "id": "9bad8e35",
   "metadata": {},
   "outputs": [],
   "source": [
    "%%R\n",
    "snp.df = read.table('../data/genotypes/genotype_matrix.csv', sep=',', row.names=1, header=TRUE)"
   ]
  },
  {
   "cell_type": "markdown",
   "id": "8f419e73",
   "metadata": {},
   "source": [
    "### Getting coordinate data"
   ]
  },
  {
   "cell_type": "code",
   "execution_count": 14,
   "id": "536c8156",
   "metadata": {},
   "outputs": [],
   "source": [
    "%%R\n",
    "bams.df = read.table('../data/merged_bams/bams_4_rcr.txt', col.names=c('Sample_ID'))\n",
    "bams.df$Sample_ID = sub(\"\\\\.bam$\",\"\", basename(bams.df$Sample_ID))\n",
    "meta.df = read.csv('../config/meta_apriori_jittered.csv', row.names=1, header=TRUE)\n",
    "coords.df = merge(bams.df, meta.df, by = \"Sample_ID\") %>% select(c('longitude','latitude'))"
   ]
  },
  {
   "cell_type": "markdown",
   "id": "8d612524",
   "metadata": {},
   "source": [
    "#### Transforming coords to dbMEM vectors"
   ]
  },
  {
   "cell_type": "code",
   "execution_count": 25,
   "id": "7117128f",
   "metadata": {},
   "outputs": [],
   "source": [
    "%%R\n",
    "coords.dmatrix = dist(coords.df)\n",
    "pcnm.out = pcnm(coords.dmatrix)\n",
    "pcnm.vectors = as.data.frame(scores(pcnm.out))"
   ]
  },
  {
   "cell_type": "markdown",
   "id": "9b2bb900",
   "metadata": {},
   "source": [
    "### Loading ancestry coefficient data from STRUCTURE (*K* = 3)"
   ]
  },
  {
   "cell_type": "code",
   "execution_count": 21,
   "id": "e93f4d92",
   "metadata": {},
   "outputs": [],
   "source": [
    "%%R\n",
    "q.df = read.csv('../data/structure/q_matrix_3', row.names=1)[,-1]"
   ]
  },
  {
   "cell_type": "markdown",
   "id": "ba255864",
   "metadata": {},
   "source": [
    "### Null and full baseline models for pcnm selection"
   ]
  },
  {
   "cell_type": "code",
   "execution_count": 26,
   "id": "410f5a28",
   "metadata": {},
   "outputs": [],
   "source": [
    "%%R\n",
    "RDA.pcnm.null = rda(snp.df ~ 1, pcnm.vectors)\n",
    "RDA.pcnm.full = rda(snp.df ~ ., pcnm.vectors)"
   ]
  },
  {
   "cell_type": "markdown",
   "id": "1f60f3f0",
   "metadata": {},
   "source": [
    "### Foward selection to select significant pcnm vectors"
   ]
  },
  {
   "cell_type": "code",
   "execution_count": 29,
   "id": "b946a2d8",
   "metadata": {},
   "outputs": [],
   "source": [
    "%%R\n",
    "fwd.sel <- ordiR2step(RDA.pcnm.null, \n",
    "                      scope = formula(RDA.pcnm.full),\n",
    "                     direction = \"forward\",\n",
    "                     R2permutations = 1000,\n",
    "                     R2scope = TRUE,\n",
    "                     pstep=1000,\n",
    "                     trace = 0)"
   ]
  },
  {
   "cell_type": "code",
   "execution_count": 31,
   "id": "d5097e89",
   "metadata": {},
   "outputs": [
    {
     "name": "stdout",
     "output_type": "stream",
     "text": [
      "Call: rda(formula = snp.df ~ PCNM1 + PCNM4 + PCNM3 + PCNM5 + PCNM9 +\n",
      "PCNM2 + PCNM6 + PCNM7 + PCNM8 + PCNM10 + PCNM12 + PCNM13 + PCNM19 +\n",
      "PCNM34 + PCNM29 + PCNM15 + PCNM69 + PCNM20, data = pcnm.vectors)\n",
      "\n",
      "               Inertia Proportion Rank\n",
      "Total         310.5827     1.0000     \n",
      "Constrained    40.9164     0.1317   18\n",
      "Unconstrained 269.6663     0.8683  225\n",
      "Inertia is variance \n",
      "\n",
      "Eigenvalues for constrained axes:\n",
      " RDA1  RDA2  RDA3  RDA4  RDA5  RDA6  RDA7  RDA8  RDA9 RDA10 RDA11 RDA12 RDA13 \n",
      "8.180 6.667 2.617 2.453 2.293 2.025 1.838 1.749 1.584 1.488 1.446 1.443 1.301 \n",
      "RDA14 RDA15 RDA16 RDA17 RDA18 \n",
      "1.283 1.263 1.154 1.086 1.047 \n",
      "\n",
      "Eigenvalues for unconstrained axes:\n",
      "   PC1    PC2    PC3    PC4    PC5    PC6    PC7    PC8 \n",
      "3.0494 2.8760 2.7390 2.6769 2.6759 2.6410 2.5646 2.5361 \n",
      "(Showing 8 of 225 unconstrained eigenvalues)\n",
      "\n"
     ]
    }
   ],
   "source": [
    "%%R \n",
    "fwd.sel$call"
   ]
  },
  {
   "cell_type": "markdown",
   "id": "2be1c1ea",
   "metadata": {},
   "source": [
    "### Model with all significant PCNM vectors and q-values"
   ]
  },
  {
   "cell_type": "code",
   "execution_count": 32,
   "id": "95517d14",
   "metadata": {},
   "outputs": [],
   "source": [
    "%%R\n",
    "all_variables = cbind(q.df, pcnm.vectors)\n",
    "\n",
    "rda.full = rda(snp.df ~ PCNM1 + PCNM4 + PCNM3 + PCNM5 + PCNM9 +\n",
    "                        PCNM2 + PCNM6 + PCNM7 + PCNM8 + PCNM10 + PCNM12 + PCNM13 + PCNM19 +\n",
    "                        PCNM34 + PCNM29 + PCNM15 + PCNM69 + PCNM20 + prop_1 + prop_2 + prop_3,\n",
    "                        data= all_variables)"
   ]
  },
  {
   "cell_type": "code",
   "execution_count": 34,
   "id": "85554a74",
   "metadata": {},
   "outputs": [
    {
     "name": "stdout",
     "output_type": "stream",
     "text": [
      "$r.squared\n",
      "[1] 0.148951\n",
      "\n",
      "$adj.r.squared\n",
      "[1] 0.06844631\n",
      "\n"
     ]
    }
   ],
   "source": [
    "%%R\n",
    "RsquareAdj(rda.full)"
   ]
  },
  {
   "cell_type": "markdown",
   "id": "0b6ef3e4",
   "metadata": {},
   "source": [
    "PCNM vectors and ancestry coefficients explain 14.9% (adjusted to 6.8% for the number of explanatory variables) of the variation in individual SNP data\n",
    "\n",
    "##### Significance of each term"
   ]
  },
  {
   "cell_type": "code",
   "execution_count": 35,
   "id": "38e596a8",
   "metadata": {},
   "outputs": [
    {
     "name": "stdout",
     "output_type": "stream",
     "text": [
      "Permutation test for rda under reduced model\n",
      "Terms added sequentially (first to last)\n",
      "Permutation: free\n",
      "Number of permutations: 999\n",
      "\n",
      "Model: rda(formula = snp.df ~ PCNM1 + PCNM4 + PCNM3 + PCNM5 + PCNM9 + PCNM2 + PCNM6 + PCNM7 + PCNM8 + PCNM10 + PCNM12 + PCNM13 + PCNM19 + PCNM34 + PCNM29 + PCNM15 + PCNM69 + PCNM20 + prop_1 + prop_2 + prop_3, data = all_variables)\n",
      "          Df Variance      F Pr(>F)    \n",
      "PCNM1      1    5.838 4.9032  0.001 ***\n",
      "PCNM4      1    5.072 4.2598  0.001 ***\n",
      "PCNM3      1    4.408 3.7023  0.001 ***\n",
      "PCNM5      1    2.534 2.1283  0.001 ***\n",
      "PCNM9      1    2.478 2.0813  0.001 ***\n",
      "PCNM2      1    2.336 1.9618  0.001 ***\n",
      "PCNM6      1    2.083 1.7494  0.001 ***\n",
      "PCNM7      1    1.862 1.5643  0.001 ***\n",
      "PCNM8      1    1.617 1.3578  0.001 ***\n",
      "PCNM10     1    1.541 1.2939  0.002 ** \n",
      "PCNM12     1    1.489 1.2510  0.003 ** \n",
      "PCNM13     1    1.487 1.2487  0.003 ** \n",
      "PCNM19     1    1.417 1.1903  0.012 *  \n",
      "PCNM34     1    1.376 1.1555  0.024 *  \n",
      "PCNM29     1    1.360 1.1419  0.027 *  \n",
      "PCNM15     1    1.355 1.1384  0.043 *  \n",
      "PCNM69     1    1.340 1.1258  0.054 .  \n",
      "PCNM20     1    1.324 1.1117  0.062 .  \n",
      "prop_1     1    1.995 1.6757  0.001 ***\n",
      "prop_2     1    2.067 1.7362  0.001 ***\n",
      "prop_3     1    1.283 1.0774  0.118    \n",
      "Residual 222  264.321                  \n",
      "---\n",
      "Signif. codes:  0 ‘***’ 0.001 ‘**’ 0.01 ‘*’ 0.05 ‘.’ 0.1 ‘ ’ 1\n"
     ]
    }
   ],
   "source": [
    "%%R\n",
    "anova.cca(rda.full, step = 1000, by='term')"
   ]
  },
  {
   "cell_type": "markdown",
   "id": "1d055e67",
   "metadata": {},
   "source": [
    "### Partial RDA (Population structure when controlling for geography)"
   ]
  },
  {
   "cell_type": "markdown",
   "id": "0e52ea29",
   "metadata": {},
   "source": [
    "I also ommitted non significant variables from the full model (PCNM69, PCNM20, and prop_3)"
   ]
  },
  {
   "cell_type": "code",
   "execution_count": 37,
   "id": "264cf8bd",
   "metadata": {},
   "outputs": [],
   "source": [
    "%%R\n",
    "p.RDA.struct = rda(snp.df ~ prop_1 + prop_2 + \n",
    "                            Condition(PCNM1 + PCNM4 + PCNM3 + PCNM5 + PCNM9 +\n",
    "                                      PCNM2 + PCNM6 + PCNM7 + PCNM8 + PCNM10 + PCNM12 + PCNM13 + PCNM19 +\n",
    "                                      PCNM34 + PCNM29 + PCNM15), data = all_variables)"
   ]
  },
  {
   "cell_type": "code",
   "execution_count": 38,
   "id": "1dd84409",
   "metadata": {},
   "outputs": [
    {
     "name": "stdout",
     "output_type": "stream",
     "text": [
      "$r.squared\n",
      "[1] 0.013236\n",
      "\n",
      "$adj.r.squared\n",
      "[1] 0.005951409\n",
      "\n"
     ]
    }
   ],
   "source": [
    "%%R\n",
    "RsquareAdj(p.RDA.struct)"
   ]
  },
  {
   "cell_type": "markdown",
   "id": "ce2bb483",
   "metadata": {},
   "source": [
    "##### Significance of each term"
   ]
  },
  {
   "cell_type": "code",
   "execution_count": 39,
   "id": "fc6943b7",
   "metadata": {},
   "outputs": [
    {
     "name": "stdout",
     "output_type": "stream",
     "text": [
      "Permutation test for rda under reduced model\n",
      "Terms added sequentially (first to last)\n",
      "Permutation: free\n",
      "Number of permutations: 999\n",
      "\n",
      "Model: rda(formula = snp.df ~ prop_1 + prop_2 + Condition(PCNM1 + PCNM4 + PCNM3 + PCNM5 + PCNM9 + PCNM2 + PCNM6 + PCNM7 + PCNM8 + PCNM10 + PCNM12 + PCNM13 + PCNM19 + PCNM34 + PCNM29 + PCNM15), data = all_variables)\n",
      "          Df Variance      F Pr(>F)    \n",
      "prop_1     1    1.998 1.6761  0.001 ***\n",
      "prop_2     1    2.113 1.7723  0.001 ***\n",
      "Residual 225  268.219                  \n",
      "---\n",
      "Signif. codes:  0 ‘***’ 0.001 ‘**’ 0.01 ‘*’ 0.05 ‘.’ 0.1 ‘ ’ 1\n"
     ]
    }
   ],
   "source": [
    "%%R\n",
    "anova.cca(p.RDA.struct, step = 1000, by='term')"
   ]
  },
  {
   "cell_type": "markdown",
   "id": "58b39fb3",
   "metadata": {},
   "source": [
    "##### Significance of entire model"
   ]
  },
  {
   "cell_type": "code",
   "execution_count": 41,
   "id": "5274caa5",
   "metadata": {},
   "outputs": [
    {
     "name": "stdout",
     "output_type": "stream",
     "text": [
      "Permutation test for rda under reduced model\n",
      "Permutation: free\n",
      "Number of permutations: 999\n",
      "\n",
      "Model: rda(formula = snp.df ~ prop_1 + prop_2 + Condition(PCNM1 + PCNM4 + PCNM3 + PCNM5 + PCNM9 + PCNM2 + PCNM6 + PCNM7 + PCNM8 + PCNM10 + PCNM12 + PCNM13 + PCNM19 + PCNM34 + PCNM29 + PCNM15), data = all_variables)\n",
      "          Df Variance      F Pr(>F)    \n",
      "Model      2    4.111 1.7242  0.001 ***\n",
      "Residual 225  268.219                  \n",
      "---\n",
      "Signif. codes:  0 ‘***’ 0.001 ‘**’ 0.01 ‘*’ 0.05 ‘.’ 0.1 ‘ ’ 1\n"
     ]
    }
   ],
   "source": [
    "%%R\n",
    "anova.cca(p.RDA.struct, step = 1000)"
   ]
  },
  {
   "cell_type": "markdown",
   "id": "ea7822ce",
   "metadata": {},
   "source": [
    "### Partial RDA (Geography when controlling for population structure)"
   ]
  },
  {
   "cell_type": "code",
   "execution_count": 43,
   "id": "4ed307a5",
   "metadata": {},
   "outputs": [],
   "source": [
    "%%R\n",
    "p.RDA.geo = rda(snp.df ~ PCNM1 + PCNM4 + PCNM3 + PCNM5 + PCNM9 +\n",
    "                                      PCNM2 + PCNM6 + PCNM7 + PCNM8 + PCNM10 + PCNM12 + PCNM13 + PCNM19 +\n",
    "                                      PCNM34 + PCNM29 + PCNM15 + \n",
    "                            Condition(prop_1 + prop_2), data = all_variables)"
   ]
  },
  {
   "cell_type": "code",
   "execution_count": 44,
   "id": "10d016c3",
   "metadata": {},
   "outputs": [
    {
     "name": "stdout",
     "output_type": "stream",
     "text": [
      "$r.squared\n",
      "[1] 0.08509175\n",
      "\n",
      "$adj.r.squared\n",
      "[1] 0.02387666\n",
      "\n"
     ]
    }
   ],
   "source": [
    "%%R\n",
    "RsquareAdj(p.RDA.geo)"
   ]
  },
  {
   "cell_type": "markdown",
   "id": "90e941e5",
   "metadata": {},
   "source": [
    "##### Significance of each term"
   ]
  },
  {
   "cell_type": "code",
   "execution_count": 45,
   "id": "e1578eb3",
   "metadata": {},
   "outputs": [
    {
     "name": "stdout",
     "output_type": "stream",
     "text": [
      "Permutation test for rda under reduced model\n",
      "Terms added sequentially (first to last)\n",
      "Permutation: free\n",
      "Number of permutations: 999\n",
      "\n",
      "Model: rda(formula = snp.df ~ PCNM1 + PCNM4 + PCNM3 + PCNM5 + PCNM9 + PCNM2 + PCNM6 + PCNM7 + PCNM8 + PCNM10 + PCNM12 + PCNM13 + PCNM19 + PCNM34 + PCNM29 + PCNM15 + Condition(prop_1 + prop_2), data = all_variables)\n",
      "          Df Variance      F Pr(>F)    \n",
      "PCNM1      1    2.295 1.9251  0.001 ***\n",
      "PCNM4      1    1.974 1.6563  0.001 ***\n",
      "PCNM3      1    1.570 1.3172  0.001 ***\n",
      "PCNM5      1    1.755 1.4720  0.001 ***\n",
      "PCNM9      1    2.138 1.7934  0.001 ***\n",
      "PCNM2      1    2.009 1.6852  0.001 ***\n",
      "PCNM6      1    1.837 1.5413  0.001 ***\n",
      "PCNM7      1    1.631 1.3679  0.001 ***\n",
      "PCNM8      1    1.462 1.2261  0.001 ***\n",
      "PCNM10     1    1.444 1.2113  0.001 ***\n",
      "PCNM12     1    1.402 1.1762  0.001 ***\n",
      "PCNM13     1    1.480 1.2417  0.001 ***\n",
      "PCNM19     1    1.379 1.1568  0.003 ** \n",
      "PCNM34     1    1.361 1.1417  0.007 ** \n",
      "PCNM29     1    1.338 1.1224  0.011 *  \n",
      "PCNM15     1    1.353 1.1348  0.009 ** \n",
      "Residual 225  268.219                  \n",
      "---\n",
      "Signif. codes:  0 ‘***’ 0.001 ‘**’ 0.01 ‘*’ 0.05 ‘.’ 0.1 ‘ ’ 1\n"
     ]
    }
   ],
   "source": [
    "%%R\n",
    "anova.cca(p.RDA.geo, step = 1000, by='term')"
   ]
  },
  {
   "cell_type": "markdown",
   "id": "f9e0797c",
   "metadata": {},
   "source": [
    "##### Significance of entire model"
   ]
  },
  {
   "cell_type": "code",
   "execution_count": 46,
   "id": "e499075f",
   "metadata": {},
   "outputs": [
    {
     "name": "stdout",
     "output_type": "stream",
     "text": [
      "Permutation test for rda under reduced model\n",
      "Permutation: free\n",
      "Number of permutations: 999\n",
      "\n",
      "Model: rda(formula = snp.df ~ PCNM1 + PCNM4 + PCNM3 + PCNM5 + PCNM9 + PCNM2 + PCNM6 + PCNM7 + PCNM8 + PCNM10 + PCNM12 + PCNM13 + PCNM19 + PCNM34 + PCNM29 + PCNM15 + Condition(prop_1 + prop_2), data = all_variables)\n",
      "          Df Variance      F Pr(>F)    \n",
      "Model     16   26.428 1.3856  0.001 ***\n",
      "Residual 225  268.219                  \n",
      "---\n",
      "Signif. codes:  0 ‘***’ 0.001 ‘**’ 0.01 ‘*’ 0.05 ‘.’ 0.1 ‘ ’ 1\n"
     ]
    }
   ],
   "source": [
    "%%R\n",
    "anova.cca(p.RDA.geo, step = 1000)"
   ]
  }
 ],
 "metadata": {
  "kernelspec": {
   "display_name": "DS320 (Python3.10)",
   "language": "python",
   "name": "ds320"
  },
  "language_info": {
   "codemirror_mode": {
    "name": "ipython",
    "version": 3
   },
   "file_extension": ".py",
   "mimetype": "text/x-python",
   "name": "python",
   "nbconvert_exporter": "python",
   "pygments_lexer": "ipython3",
   "version": "3.10.8"
  }
 },
 "nbformat": 4,
 "nbformat_minor": 5
}
