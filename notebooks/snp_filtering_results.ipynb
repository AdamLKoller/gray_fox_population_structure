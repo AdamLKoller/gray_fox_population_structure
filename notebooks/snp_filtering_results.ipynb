{
 "cells": [
  {
   "cell_type": "markdown",
   "id": "66418b8a",
   "metadata": {},
   "source": [
    "### Importing libraries"
   ]
  },
  {
   "cell_type": "code",
   "execution_count": 2,
   "id": "035b311e",
   "metadata": {},
   "outputs": [],
   "source": [
    "import pandas as pd"
   ]
  },
  {
   "cell_type": "markdown",
   "id": "9ef44ef9",
   "metadata": {},
   "source": [
    "### Parsing log files"
   ]
  },
  {
   "cell_type": "code",
   "execution_count": 27,
   "id": "8dc05090",
   "metadata": {},
   "outputs": [],
   "source": [
    "snp_filtering_results = pd.DataFrame(columns=['Step','N individuals','N SNPs'])\n",
    "\n",
    "geno_steps = [0.5,0.6,0.7,0.7,0.8]\n",
    "\n",
    "logs = [\n",
    "    '../data/genotypes/imiss_filter1_log.txt',\n",
    "    '../data/genotypes/imiss_filter2_log.txt',\n",
    "    '../data/genotypes/imiss_filter3_log.txt',\n",
    "    '../data/genotypes/imiss_filter4_log.txt'\n",
    "]\n",
    "\n",
    "for i, log_name in enumerate(logs):\n",
    "    row = []\n",
    "    with open(log_name, 'r') as log:\n",
    "        _,thresh, nSNPs, nINDpr, nINDpo = [line.split(':')[-1].strip() for line in log.readlines()]\n",
    "        snp_filtering_results.loc[2*i] = [f'geno > {geno_steps[i]}', nINDpr, nSNPs]\n",
    "        snp_filtering_results.loc[2*i+1] = [f'imiss < {thresh}', nINDpo, nSNPs]\n",
    "        "
   ]
  },
  {
   "cell_type": "markdown",
   "id": "ad8750ba",
   "metadata": {},
   "source": [
    "### Removing close relatives"
   ]
  },
  {
   "cell_type": "code",
   "execution_count": 28,
   "id": "e5b9ea61",
   "metadata": {},
   "outputs": [],
   "source": [
    "final_bam_file = '../data/merged_bams/bams_4_rcr.txt'\n",
    "with open(final_bam_file, 'r') as bam_file:\n",
    "    nINDfinal = len(bam_file.readlines())\n",
    "snp_filtering_results.loc[len(snp_filtering_results)] = [\"Remove relatives and replicates\", nINDfinal, nSNPs]"
   ]
  },
  {
   "cell_type": "markdown",
   "id": "5c3bfeb4",
   "metadata": {},
   "source": [
    "### Final genotype calling"
   ]
  },
  {
   "cell_type": "code",
   "execution_count": 29,
   "id": "8e875781",
   "metadata": {},
   "outputs": [],
   "source": [
    "final_geno_file = pd.read_csv('../data/genotypes/genotype_matrix.csv', index_col=0)\n",
    "snp_filtering_results.loc[len(snp_filtering_results)] = [f'geno > {geno_steps[-1]}, -sb_pval 1e-5,  -hetbias_pval 1e-5 ',\n",
    "                                                         final_geno_file.shape[0], \n",
    "                                                         final_geno_file.shape[1]]"
   ]
  },
  {
   "cell_type": "code",
   "execution_count": 30,
   "id": "376e1df8",
   "metadata": {},
   "outputs": [
    {
     "data": {
      "text/html": [
       "<div>\n",
       "<style scoped>\n",
       "    .dataframe tbody tr th:only-of-type {\n",
       "        vertical-align: middle;\n",
       "    }\n",
       "\n",
       "    .dataframe tbody tr th {\n",
       "        vertical-align: top;\n",
       "    }\n",
       "\n",
       "    .dataframe thead th {\n",
       "        text-align: right;\n",
       "    }\n",
       "</style>\n",
       "<table border=\"1\" class=\"dataframe\">\n",
       "  <thead>\n",
       "    <tr style=\"text-align: right;\">\n",
       "      <th></th>\n",
       "      <th>Step</th>\n",
       "      <th>N individuals</th>\n",
       "      <th>N SNPs</th>\n",
       "    </tr>\n",
       "  </thead>\n",
       "  <tbody>\n",
       "    <tr>\n",
       "      <th>0</th>\n",
       "      <td>geno &gt; 0.5</td>\n",
       "      <td>339</td>\n",
       "      <td>3695</td>\n",
       "    </tr>\n",
       "    <tr>\n",
       "      <th>1</th>\n",
       "      <td>imiss &lt; 0.9</td>\n",
       "      <td>323</td>\n",
       "      <td>3695</td>\n",
       "    </tr>\n",
       "    <tr>\n",
       "      <th>2</th>\n",
       "      <td>geno &gt; 0.6</td>\n",
       "      <td>323</td>\n",
       "      <td>3223</td>\n",
       "    </tr>\n",
       "    <tr>\n",
       "      <th>3</th>\n",
       "      <td>imiss &lt; 0.7</td>\n",
       "      <td>305</td>\n",
       "      <td>3223</td>\n",
       "    </tr>\n",
       "    <tr>\n",
       "      <th>4</th>\n",
       "      <td>geno &gt; 0.7</td>\n",
       "      <td>305</td>\n",
       "      <td>2844</td>\n",
       "    </tr>\n",
       "    <tr>\n",
       "      <th>5</th>\n",
       "      <td>imiss &lt; 0.5</td>\n",
       "      <td>294</td>\n",
       "      <td>2844</td>\n",
       "    </tr>\n",
       "    <tr>\n",
       "      <th>6</th>\n",
       "      <td>geno &gt; 0.7</td>\n",
       "      <td>294</td>\n",
       "      <td>2959</td>\n",
       "    </tr>\n",
       "    <tr>\n",
       "      <th>7</th>\n",
       "      <td>imiss &lt; 0.25</td>\n",
       "      <td>257</td>\n",
       "      <td>2959</td>\n",
       "    </tr>\n",
       "    <tr>\n",
       "      <th>8</th>\n",
       "      <td>Remove relatives and replicates</td>\n",
       "      <td>244</td>\n",
       "      <td>2959</td>\n",
       "    </tr>\n",
       "    <tr>\n",
       "      <th>9</th>\n",
       "      <td>geno &gt; 0.8, -sb_pval 1e-5,  -hetbias_pval 1e-5</td>\n",
       "      <td>244</td>\n",
       "      <td>1706</td>\n",
       "    </tr>\n",
       "  </tbody>\n",
       "</table>\n",
       "</div>"
      ],
      "text/plain": [
       "                                              Step N individuals N SNPs\n",
       "0                                       geno > 0.5           339   3695\n",
       "1                                      imiss < 0.9           323   3695\n",
       "2                                       geno > 0.6           323   3223\n",
       "3                                      imiss < 0.7           305   3223\n",
       "4                                       geno > 0.7           305   2844\n",
       "5                                      imiss < 0.5           294   2844\n",
       "6                                       geno > 0.7           294   2959\n",
       "7                                     imiss < 0.25           257   2959\n",
       "8                  Remove relatives and replicates           244   2959\n",
       "9  geno > 0.8, -sb_pval 1e-5,  -hetbias_pval 1e-5            244   1706"
      ]
     },
     "execution_count": 30,
     "metadata": {},
     "output_type": "execute_result"
    }
   ],
   "source": [
    "snp_filtering_results"
   ]
  }
 ],
 "metadata": {
  "kernelspec": {
   "display_name": "DS320 (Python3.10)",
   "language": "python",
   "name": "ds320"
  },
  "language_info": {
   "codemirror_mode": {
    "name": "ipython",
    "version": 3
   },
   "file_extension": ".py",
   "mimetype": "text/x-python",
   "name": "python",
   "nbconvert_exporter": "python",
   "pygments_lexer": "ipython3",
   "version": "3.10.8"
  }
 },
 "nbformat": 4,
 "nbformat_minor": 5
}
