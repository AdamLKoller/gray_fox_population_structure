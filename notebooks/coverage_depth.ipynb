{
 "cells": [
  {
   "cell_type": "markdown",
   "id": "ca924ed7",
   "metadata": {},
   "source": [
    "### Importing modules"
   ]
  },
  {
   "cell_type": "code",
   "execution_count": 1,
   "id": "58cd4561",
   "metadata": {},
   "outputs": [],
   "source": [
    "import pandas as pd\n",
    "import matplotlib.pyplot as plt"
   ]
  },
  {
   "cell_type": "markdown",
   "id": "9a8bb9d1",
   "metadata": {},
   "source": [
    "### Loading coverage data"
   ]
  },
  {
   "cell_type": "code",
   "execution_count": 21,
   "id": "611ce6f9",
   "metadata": {},
   "outputs": [
    {
     "data": {
      "text/html": [
       "<div>\n",
       "<style scoped>\n",
       "    .dataframe tbody tr th:only-of-type {\n",
       "        vertical-align: middle;\n",
       "    }\n",
       "\n",
       "    .dataframe tbody tr th {\n",
       "        vertical-align: top;\n",
       "    }\n",
       "\n",
       "    .dataframe thead th {\n",
       "        text-align: right;\n",
       "    }\n",
       "</style>\n",
       "<table border=\"1\" class=\"dataframe\">\n",
       "  <thead>\n",
       "    <tr style=\"text-align: right;\">\n",
       "      <th></th>\n",
       "      <th>count</th>\n",
       "      <th>mean</th>\n",
       "      <th>std</th>\n",
       "      <th>min</th>\n",
       "      <th>25%</th>\n",
       "      <th>50%</th>\n",
       "      <th>75%</th>\n",
       "      <th>max</th>\n",
       "    </tr>\n",
       "  </thead>\n",
       "  <tbody>\n",
       "    <tr>\n",
       "      <th>0</th>\n",
       "      <td>244.0</td>\n",
       "      <td>31.422131</td>\n",
       "      <td>16.426858</td>\n",
       "      <td>0.0</td>\n",
       "      <td>19.00</td>\n",
       "      <td>28.0</td>\n",
       "      <td>43.00</td>\n",
       "      <td>77.0</td>\n",
       "    </tr>\n",
       "    <tr>\n",
       "      <th>1</th>\n",
       "      <td>244.0</td>\n",
       "      <td>14.479508</td>\n",
       "      <td>11.638396</td>\n",
       "      <td>0.0</td>\n",
       "      <td>6.00</td>\n",
       "      <td>11.0</td>\n",
       "      <td>22.00</td>\n",
       "      <td>55.0</td>\n",
       "    </tr>\n",
       "    <tr>\n",
       "      <th>2</th>\n",
       "      <td>244.0</td>\n",
       "      <td>14.372951</td>\n",
       "      <td>11.520435</td>\n",
       "      <td>0.0</td>\n",
       "      <td>6.00</td>\n",
       "      <td>11.0</td>\n",
       "      <td>22.00</td>\n",
       "      <td>45.0</td>\n",
       "    </tr>\n",
       "    <tr>\n",
       "      <th>3</th>\n",
       "      <td>244.0</td>\n",
       "      <td>45.073770</td>\n",
       "      <td>20.788438</td>\n",
       "      <td>0.0</td>\n",
       "      <td>32.00</td>\n",
       "      <td>43.0</td>\n",
       "      <td>56.00</td>\n",
       "      <td>126.0</td>\n",
       "    </tr>\n",
       "    <tr>\n",
       "      <th>4</th>\n",
       "      <td>244.0</td>\n",
       "      <td>16.827869</td>\n",
       "      <td>15.622972</td>\n",
       "      <td>0.0</td>\n",
       "      <td>6.00</td>\n",
       "      <td>11.0</td>\n",
       "      <td>26.00</td>\n",
       "      <td>66.0</td>\n",
       "    </tr>\n",
       "    <tr>\n",
       "      <th>...</th>\n",
       "      <td>...</td>\n",
       "      <td>...</td>\n",
       "      <td>...</td>\n",
       "      <td>...</td>\n",
       "      <td>...</td>\n",
       "      <td>...</td>\n",
       "      <td>...</td>\n",
       "      <td>...</td>\n",
       "    </tr>\n",
       "    <tr>\n",
       "      <th>1701</th>\n",
       "      <td>244.0</td>\n",
       "      <td>41.418033</td>\n",
       "      <td>17.153310</td>\n",
       "      <td>9.0</td>\n",
       "      <td>29.75</td>\n",
       "      <td>39.5</td>\n",
       "      <td>50.25</td>\n",
       "      <td>100.0</td>\n",
       "    </tr>\n",
       "    <tr>\n",
       "      <th>1702</th>\n",
       "      <td>244.0</td>\n",
       "      <td>41.352459</td>\n",
       "      <td>17.195282</td>\n",
       "      <td>9.0</td>\n",
       "      <td>29.75</td>\n",
       "      <td>39.5</td>\n",
       "      <td>50.25</td>\n",
       "      <td>100.0</td>\n",
       "    </tr>\n",
       "    <tr>\n",
       "      <th>1703</th>\n",
       "      <td>244.0</td>\n",
       "      <td>24.352459</td>\n",
       "      <td>18.008650</td>\n",
       "      <td>0.0</td>\n",
       "      <td>9.00</td>\n",
       "      <td>23.0</td>\n",
       "      <td>37.00</td>\n",
       "      <td>76.0</td>\n",
       "    </tr>\n",
       "    <tr>\n",
       "      <th>1704</th>\n",
       "      <td>244.0</td>\n",
       "      <td>17.889344</td>\n",
       "      <td>13.397379</td>\n",
       "      <td>0.0</td>\n",
       "      <td>8.00</td>\n",
       "      <td>17.0</td>\n",
       "      <td>27.00</td>\n",
       "      <td>61.0</td>\n",
       "    </tr>\n",
       "    <tr>\n",
       "      <th>1705</th>\n",
       "      <td>244.0</td>\n",
       "      <td>33.512295</td>\n",
       "      <td>16.018632</td>\n",
       "      <td>0.0</td>\n",
       "      <td>23.00</td>\n",
       "      <td>33.0</td>\n",
       "      <td>43.00</td>\n",
       "      <td>96.0</td>\n",
       "    </tr>\n",
       "  </tbody>\n",
       "</table>\n",
       "<p>1706 rows × 8 columns</p>\n",
       "</div>"
      ],
      "text/plain": [
       "      count       mean        std  min    25%   50%    75%    max\n",
       "0     244.0  31.422131  16.426858  0.0  19.00  28.0  43.00   77.0\n",
       "1     244.0  14.479508  11.638396  0.0   6.00  11.0  22.00   55.0\n",
       "2     244.0  14.372951  11.520435  0.0   6.00  11.0  22.00   45.0\n",
       "3     244.0  45.073770  20.788438  0.0  32.00  43.0  56.00  126.0\n",
       "4     244.0  16.827869  15.622972  0.0   6.00  11.0  26.00   66.0\n",
       "...     ...        ...        ...  ...    ...   ...    ...    ...\n",
       "1701  244.0  41.418033  17.153310  9.0  29.75  39.5  50.25  100.0\n",
       "1702  244.0  41.352459  17.195282  9.0  29.75  39.5  50.25  100.0\n",
       "1703  244.0  24.352459  18.008650  0.0   9.00  23.0  37.00   76.0\n",
       "1704  244.0  17.889344  13.397379  0.0   8.00  17.0  27.00   61.0\n",
       "1705  244.0  33.512295  16.018632  0.0  23.00  33.0  43.00   96.0\n",
       "\n",
       "[1706 rows x 8 columns]"
      ]
     },
     "execution_count": 21,
     "metadata": {},
     "output_type": "execute_result"
    }
   ],
   "source": [
    "file_path = '../data/genotypes/geno5.counts'\n",
    "coverage_df = pd.read_table(file_path).iloc[:,:-1].T\n",
    "depth_summary = coverage_df.describe().T\n",
    "depth_summary"
   ]
  },
  {
   "cell_type": "markdown",
   "id": "d46188ed",
   "metadata": {},
   "source": [
    "### Global average coverage depth"
   ]
  },
  {
   "cell_type": "code",
   "execution_count": 23,
   "id": "46a419da",
   "metadata": {},
   "outputs": [
    {
     "data": {
      "text/plain": [
       "33.71211538831126"
      ]
     },
     "execution_count": 23,
     "metadata": {},
     "output_type": "execute_result"
    }
   ],
   "source": [
    "depth_summary['mean'].mean()"
   ]
  },
  {
   "cell_type": "markdown",
   "id": "6990c48c",
   "metadata": {},
   "source": [
    "### Coverage distibution among SNPs"
   ]
  },
  {
   "cell_type": "code",
   "execution_count": 40,
   "id": "7ea91454",
   "metadata": {},
   "outputs": [
    {
     "data": {
      "text/plain": [
       "Text(0.5, 1.0, 'Coverage distribution for SNPs')"
      ]
     },
     "execution_count": 40,
     "metadata": {},
     "output_type": "execute_result"
    },
    {
     "data": {
      "image/png": "[encoded data removed]",
      "text/plain": [
       "<Figure size 600x400 with 1 Axes>"
      ]
     },
     "metadata": {},
     "output_type": "display_data"
    }
   ],
   "source": [
    "fig, ax = plt.subplots(figsize=(6,4))\n",
    "ax.hist(depth_summary['mean'], color = 'gray', bins = 40 )\n",
    "ax.spines['top'].set_visible(False)\n",
    "ax.spines['right'].set_visible(False)\n",
    "ax.spines['bottom'].set_linewidth(2)\n",
    "ax.spines['left'].set_linewidth(2)\n",
    "ax.tick_params(axis='both', width=2)\n",
    "ax.set_xlabel('Coverage depth', fontname='Arial', fontweight='bold', fontsize=12)\n",
    "ax.set_ylabel('Frequency', fontname='Arial', fontweight='bold', fontsize=12)\n",
    "ax.set_title('Coverage distribution for SNPs', fontname = 'Arial', fontweight='bold', fontsize=12)"
   ]
  },
  {
   "cell_type": "markdown",
   "id": "2a6cfcac",
   "metadata": {},
   "source": [
    "### Coverage distribution among samples"
   ]
  },
  {
   "cell_type": "code",
   "execution_count": 27,
   "id": "1021a29d",
   "metadata": {},
   "outputs": [
    {
     "data": {
      "text/html": [
       "<div>\n",
       "<style scoped>\n",
       "    .dataframe tbody tr th:only-of-type {\n",
       "        vertical-align: middle;\n",
       "    }\n",
       "\n",
       "    .dataframe tbody tr th {\n",
       "        vertical-align: top;\n",
       "    }\n",
       "\n",
       "    .dataframe thead th {\n",
       "        text-align: right;\n",
       "    }\n",
       "</style>\n",
       "<table border=\"1\" class=\"dataframe\">\n",
       "  <thead>\n",
       "    <tr style=\"text-align: right;\">\n",
       "      <th></th>\n",
       "      <th>count</th>\n",
       "      <th>mean</th>\n",
       "      <th>std</th>\n",
       "      <th>min</th>\n",
       "      <th>25%</th>\n",
       "      <th>50%</th>\n",
       "      <th>75%</th>\n",
       "      <th>max</th>\n",
       "    </tr>\n",
       "  </thead>\n",
       "  <tbody>\n",
       "    <tr>\n",
       "      <th>ind0TotDepth</th>\n",
       "      <td>1706.0</td>\n",
       "      <td>33.445487</td>\n",
       "      <td>23.127156</td>\n",
       "      <td>0.0</td>\n",
       "      <td>14.0</td>\n",
       "      <td>28.0</td>\n",
       "      <td>48.00</td>\n",
       "      <td>138.0</td>\n",
       "    </tr>\n",
       "    <tr>\n",
       "      <th>ind1TotDepth</th>\n",
       "      <td>1706.0</td>\n",
       "      <td>33.230950</td>\n",
       "      <td>22.516765</td>\n",
       "      <td>0.0</td>\n",
       "      <td>14.0</td>\n",
       "      <td>29.0</td>\n",
       "      <td>49.00</td>\n",
       "      <td>148.0</td>\n",
       "    </tr>\n",
       "    <tr>\n",
       "      <th>ind2TotDepth</th>\n",
       "      <td>1706.0</td>\n",
       "      <td>29.723329</td>\n",
       "      <td>21.733219</td>\n",
       "      <td>0.0</td>\n",
       "      <td>12.0</td>\n",
       "      <td>23.5</td>\n",
       "      <td>43.00</td>\n",
       "      <td>127.0</td>\n",
       "    </tr>\n",
       "    <tr>\n",
       "      <th>ind3TotDepth</th>\n",
       "      <td>1706.0</td>\n",
       "      <td>31.000000</td>\n",
       "      <td>17.625528</td>\n",
       "      <td>0.0</td>\n",
       "      <td>18.0</td>\n",
       "      <td>29.0</td>\n",
       "      <td>42.00</td>\n",
       "      <td>121.0</td>\n",
       "    </tr>\n",
       "    <tr>\n",
       "      <th>ind4TotDepth</th>\n",
       "      <td>1706.0</td>\n",
       "      <td>48.882181</td>\n",
       "      <td>19.843454</td>\n",
       "      <td>0.0</td>\n",
       "      <td>35.0</td>\n",
       "      <td>48.0</td>\n",
       "      <td>61.00</td>\n",
       "      <td>142.0</td>\n",
       "    </tr>\n",
       "    <tr>\n",
       "      <th>...</th>\n",
       "      <td>...</td>\n",
       "      <td>...</td>\n",
       "      <td>...</td>\n",
       "      <td>...</td>\n",
       "      <td>...</td>\n",
       "      <td>...</td>\n",
       "      <td>...</td>\n",
       "      <td>...</td>\n",
       "    </tr>\n",
       "    <tr>\n",
       "      <th>ind239TotDepth</th>\n",
       "      <td>1706.0</td>\n",
       "      <td>24.055100</td>\n",
       "      <td>17.219590</td>\n",
       "      <td>0.0</td>\n",
       "      <td>11.0</td>\n",
       "      <td>19.0</td>\n",
       "      <td>34.75</td>\n",
       "      <td>115.0</td>\n",
       "    </tr>\n",
       "    <tr>\n",
       "      <th>ind240TotDepth</th>\n",
       "      <td>1706.0</td>\n",
       "      <td>35.080305</td>\n",
       "      <td>24.157499</td>\n",
       "      <td>0.0</td>\n",
       "      <td>15.0</td>\n",
       "      <td>31.0</td>\n",
       "      <td>51.00</td>\n",
       "      <td>145.0</td>\n",
       "    </tr>\n",
       "    <tr>\n",
       "      <th>ind241TotDepth</th>\n",
       "      <td>1706.0</td>\n",
       "      <td>23.063306</td>\n",
       "      <td>18.800311</td>\n",
       "      <td>0.0</td>\n",
       "      <td>9.0</td>\n",
       "      <td>18.0</td>\n",
       "      <td>34.00</td>\n",
       "      <td>132.0</td>\n",
       "    </tr>\n",
       "    <tr>\n",
       "      <th>ind242TotDepth</th>\n",
       "      <td>1706.0</td>\n",
       "      <td>43.260258</td>\n",
       "      <td>21.852054</td>\n",
       "      <td>0.0</td>\n",
       "      <td>26.0</td>\n",
       "      <td>42.0</td>\n",
       "      <td>57.00</td>\n",
       "      <td>165.0</td>\n",
       "    </tr>\n",
       "    <tr>\n",
       "      <th>ind243TotDepth</th>\n",
       "      <td>1706.0</td>\n",
       "      <td>25.120750</td>\n",
       "      <td>19.135190</td>\n",
       "      <td>0.0</td>\n",
       "      <td>11.0</td>\n",
       "      <td>19.0</td>\n",
       "      <td>34.00</td>\n",
       "      <td>132.0</td>\n",
       "    </tr>\n",
       "  </tbody>\n",
       "</table>\n",
       "<p>244 rows × 8 columns</p>\n",
       "</div>"
      ],
      "text/plain": [
       "                 count       mean        std  min   25%   50%    75%    max\n",
       "ind0TotDepth    1706.0  33.445487  23.127156  0.0  14.0  28.0  48.00  138.0\n",
       "ind1TotDepth    1706.0  33.230950  22.516765  0.0  14.0  29.0  49.00  148.0\n",
       "ind2TotDepth    1706.0  29.723329  21.733219  0.0  12.0  23.5  43.00  127.0\n",
       "ind3TotDepth    1706.0  31.000000  17.625528  0.0  18.0  29.0  42.00  121.0\n",
       "ind4TotDepth    1706.0  48.882181  19.843454  0.0  35.0  48.0  61.00  142.0\n",
       "...                ...        ...        ...  ...   ...   ...    ...    ...\n",
       "ind239TotDepth  1706.0  24.055100  17.219590  0.0  11.0  19.0  34.75  115.0\n",
       "ind240TotDepth  1706.0  35.080305  24.157499  0.0  15.0  31.0  51.00  145.0\n",
       "ind241TotDepth  1706.0  23.063306  18.800311  0.0   9.0  18.0  34.00  132.0\n",
       "ind242TotDepth  1706.0  43.260258  21.852054  0.0  26.0  42.0  57.00  165.0\n",
       "ind243TotDepth  1706.0  25.120750  19.135190  0.0  11.0  19.0  34.00  132.0\n",
       "\n",
       "[244 rows x 8 columns]"
      ]
     },
     "execution_count": 27,
     "metadata": {},
     "output_type": "execute_result"
    }
   ],
   "source": [
    "sample_cov_dist = coverage_df.T.describe().T\n",
    "sample_cov_dist"
   ]
  },
  {
   "cell_type": "code",
   "execution_count": 41,
   "id": "3ac6a9c4",
   "metadata": {},
   "outputs": [
    {
     "data": {
      "text/plain": [
       "Text(0.5, 1.0, 'Coverage distribution for samples')"
      ]
     },
     "execution_count": 41,
     "metadata": {},
     "output_type": "execute_result"
    },
    {
     "data": {
      "image/png": "[encoded data removed]",
      "text/plain": [
       "<Figure size 600x400 with 1 Axes>"
      ]
     },
     "metadata": {},
     "output_type": "display_data"
    }
   ],
   "source": [
    "fig, ax = plt.subplots(figsize=(6,4))\n",
    "ax.hist(sample_cov_dist['mean'], color = 'gray', bins = 16 )\n",
    "ax.spines['top'].set_visible(False)\n",
    "ax.spines['right'].set_visible(False)\n",
    "ax.spines['bottom'].set_linewidth(2)\n",
    "ax.spines['left'].set_linewidth(2)\n",
    "ax.tick_params(axis='both', width=2)\n",
    "ax.set_xlabel('Coverage depth', fontname='Arial', fontweight='bold', fontsize=12)\n",
    "ax.set_ylabel('Frequency', fontname='Arial', fontweight='bold', fontsize=12)\n",
    "ax.set_title('Coverage distribution for samples', fontname = 'Arial', fontweight='bold', fontsize=12)"
   ]
  }
 ],
 "metadata": {
  "kernelspec": {
   "display_name": "DS320 (Python3.10)",
   "language": "python",
   "name": "ds320"
  },
  "language_info": {
   "codemirror_mode": {
    "name": "ipython",
    "version": 3
   },
   "file_extension": ".py",
   "mimetype": "text/x-python",
   "name": "python",
   "nbconvert_exporter": "python",
   "pygments_lexer": "ipython3",
   "version": "3.10.8"
  }
 },
 "nbformat": 4,
 "nbformat_minor": 5
}
